{
 "cells": [
  {
   "cell_type": "markdown",
   "metadata": {},
   "source": [
    "## Analyse Customer Feedback and Explore Text Classification & Sentiment Analysis "
   ]
  },
  {
   "cell_type": "code",
   "execution_count": 15,
   "metadata": {},
   "outputs": [
    {
     "name": "stdout",
     "output_type": "stream",
     "text": [
      "<class 'pandas.core.frame.DataFrame'>\n",
      "RangeIndex: 3421 entries, 0 to 3420\n",
      "Data columns (total 27 columns):\n",
      "StartDate                   3421 non-null object\n",
      "EndDate                     3421 non-null object\n",
      "Status                      3421 non-null object\n",
      "Progress                    3421 non-null object\n",
      "Duration (in seconds)       3421 non-null object\n",
      "Finished                    3421 non-null object\n",
      "RecordedDate                3421 non-null object\n",
      "ResponseId                  3421 non-null object\n",
      "DistributionChannel         3421 non-null object\n",
      "UserLanguage                3421 non-null object\n",
      "Q_BallotBoxStuffing         161 non-null object\n",
      "Q4_Browser                  3421 non-null object\n",
      "Q4_Version                  3421 non-null object\n",
      "Q4_Operating System         3421 non-null object\n",
      "Q4_Resolution               3421 non-null object\n",
      "Q3                          1915 non-null object\n",
      "Rating                      3011 non-null object\n",
      "device_model                3421 non-null object\n",
      "operating_system_name       3421 non-null object\n",
      "operating_system_version    3421 non-null object\n",
      "app_version                 3421 non-null object\n",
      "build_number                3421 non-null object\n",
      "Q3 - Sentiment Polarity     96 non-null object\n",
      "Q3 - Sentiment Score        96 non-null object\n",
      "Q3 - Sentiment              96 non-null object\n",
      "Q3 - Topics                 96 non-null object\n",
      "Topic                       149 non-null object\n",
      "dtypes: object(27)\n",
      "memory usage: 721.7+ KB\n"
     ]
    },
    {
     "data": {
      "text/html": [
       "<div>\n",
       "<style scoped>\n",
       "    .dataframe tbody tr th:only-of-type {\n",
       "        vertical-align: middle;\n",
       "    }\n",
       "\n",
       "    .dataframe tbody tr th {\n",
       "        vertical-align: top;\n",
       "    }\n",
       "\n",
       "    .dataframe thead th {\n",
       "        text-align: right;\n",
       "    }\n",
       "</style>\n",
       "<table border=\"1\" class=\"dataframe\">\n",
       "  <thead>\n",
       "    <tr style=\"text-align: right;\">\n",
       "      <th></th>\n",
       "      <th>StartDate</th>\n",
       "      <th>EndDate</th>\n",
       "      <th>Status</th>\n",
       "      <th>Progress</th>\n",
       "      <th>Duration (in seconds)</th>\n",
       "      <th>Finished</th>\n",
       "      <th>RecordedDate</th>\n",
       "      <th>ResponseId</th>\n",
       "      <th>DistributionChannel</th>\n",
       "      <th>UserLanguage</th>\n",
       "      <th>...</th>\n",
       "      <th>device_model</th>\n",
       "      <th>operating_system_name</th>\n",
       "      <th>operating_system_version</th>\n",
       "      <th>app_version</th>\n",
       "      <th>build_number</th>\n",
       "      <th>Q3 - Sentiment Polarity</th>\n",
       "      <th>Q3 - Sentiment Score</th>\n",
       "      <th>Q3 - Sentiment</th>\n",
       "      <th>Q3 - Topics</th>\n",
       "      <th>Topic</th>\n",
       "    </tr>\n",
       "  </thead>\n",
       "  <tbody>\n",
       "    <tr>\n",
       "      <td>0</td>\n",
       "      <td>Start Date</td>\n",
       "      <td>End Date</td>\n",
       "      <td>Response Type</td>\n",
       "      <td>Progress</td>\n",
       "      <td>Duration (in seconds)</td>\n",
       "      <td>Finished</td>\n",
       "      <td>Recorded Date</td>\n",
       "      <td>Response ID</td>\n",
       "      <td>Distribution Channel</td>\n",
       "      <td>User Language</td>\n",
       "      <td>...</td>\n",
       "      <td>device_model</td>\n",
       "      <td>operating_system_name</td>\n",
       "      <td>operating_system_version</td>\n",
       "      <td>app_version</td>\n",
       "      <td>build_number</td>\n",
       "      <td>Q3 - Sentiment Polarity</td>\n",
       "      <td>Q3 - Sentiment Score</td>\n",
       "      <td>Q3 - Sentiment</td>\n",
       "      <td>Q3 - Topics</td>\n",
       "      <td>Topic</td>\n",
       "    </tr>\n",
       "    <tr>\n",
       "      <td>1</td>\n",
       "      <td>{\"ImportId\":\"startDate\",\"timeZone\":\"Europe/Ber...</td>\n",
       "      <td>{\"ImportId\":\"endDate\",\"timeZone\":\"Europe/Berlin\"}</td>\n",
       "      <td>{\"ImportId\":\"status\"}</td>\n",
       "      <td>{\"ImportId\":\"progress\"}</td>\n",
       "      <td>{\"ImportId\":\"duration\"}</td>\n",
       "      <td>{\"ImportId\":\"finished\"}</td>\n",
       "      <td>{\"ImportId\":\"recordedDate\",\"timeZone\":\"Europe/...</td>\n",
       "      <td>{\"ImportId\":\"_recordId\"}</td>\n",
       "      <td>{\"ImportId\":\"distributionChannel\"}</td>\n",
       "      <td>{\"ImportId\":\"userLanguage\"}</td>\n",
       "      <td>...</td>\n",
       "      <td>{\"ImportId\":\"device_model\"}</td>\n",
       "      <td>{\"ImportId\":\"operating_system_name\"}</td>\n",
       "      <td>{\"ImportId\":\"operating_system_version\"}</td>\n",
       "      <td>{\"ImportId\":\"app_version\"}</td>\n",
       "      <td>{\"ImportId\":\"build_number\"}</td>\n",
       "      <td>{\"ImportId\":\"QID2_TEXT_9d097c598dd842c980e9fcc...</td>\n",
       "      <td>{\"ImportId\":\"QID2_TEXT_9d097c598dd842c980e9fcc...</td>\n",
       "      <td>{\"ImportId\":\"QID2_TEXT_9d097c598dd842c980e9fcc...</td>\n",
       "      <td>{\"ImportId\":\"QID2_TEXT_9d097c598dd842c980e9fcc...</td>\n",
       "      <td>{\"ImportId\":\"Topic_CEDfxhe5s1\"}</td>\n",
       "    </tr>\n",
       "    <tr>\n",
       "      <td>2</td>\n",
       "      <td>2019-06-04 08:44:13</td>\n",
       "      <td>2019-06-04 08:45:32</td>\n",
       "      <td>IP Address</td>\n",
       "      <td>100</td>\n",
       "      <td>79</td>\n",
       "      <td>True</td>\n",
       "      <td>2019-06-04 08:45:32</td>\n",
       "      <td>R_10MWmq3mVJVgggs</td>\n",
       "      <td>anonymous</td>\n",
       "      <td>EN</td>\n",
       "      <td>...</td>\n",
       "      <td>iPhone X</td>\n",
       "      <td>iOS</td>\n",
       "      <td>12.3.1</td>\n",
       "      <td>2.0.1</td>\n",
       "      <td>3313</td>\n",
       "      <td>0</td>\n",
       "      <td>-1</td>\n",
       "      <td>Negative</td>\n",
       "      <td>Unknown</td>\n",
       "      <td>Funktionalität</td>\n",
       "    </tr>\n",
       "    <tr>\n",
       "      <td>3</td>\n",
       "      <td>2019-06-05 09:36:31</td>\n",
       "      <td>2019-06-05 09:40:19</td>\n",
       "      <td>IP Address</td>\n",
       "      <td>100</td>\n",
       "      <td>228</td>\n",
       "      <td>True</td>\n",
       "      <td>2019-06-05 09:40:19</td>\n",
       "      <td>R_1Ley5R6gxeEX0dX</td>\n",
       "      <td>anonymous</td>\n",
       "      <td>EN</td>\n",
       "      <td>...</td>\n",
       "      <td>iPhone 8</td>\n",
       "      <td>iOS</td>\n",
       "      <td>12.3.1</td>\n",
       "      <td>2.0.1</td>\n",
       "      <td>3313</td>\n",
       "      <td>1</td>\n",
       "      <td>1</td>\n",
       "      <td>Positive</td>\n",
       "      <td>Unknown</td>\n",
       "      <td>Falsche Einträge</td>\n",
       "    </tr>\n",
       "    <tr>\n",
       "      <td>4</td>\n",
       "      <td>2019-06-06 17:08:29</td>\n",
       "      <td>2019-06-06 17:08:42</td>\n",
       "      <td>IP Address</td>\n",
       "      <td>100</td>\n",
       "      <td>12</td>\n",
       "      <td>True</td>\n",
       "      <td>2019-06-06 17:08:42</td>\n",
       "      <td>R_1Lcll5Zp1u4ERAT</td>\n",
       "      <td>anonymous</td>\n",
       "      <td>EN</td>\n",
       "      <td>...</td>\n",
       "      <td>iPhone X</td>\n",
       "      <td>iOS</td>\n",
       "      <td>12.3.1</td>\n",
       "      <td>2.0.1</td>\n",
       "      <td>3313</td>\n",
       "      <td>NaN</td>\n",
       "      <td>NaN</td>\n",
       "      <td>NaN</td>\n",
       "      <td>NaN</td>\n",
       "      <td>NaN</td>\n",
       "    </tr>\n",
       "  </tbody>\n",
       "</table>\n",
       "<p>5 rows × 27 columns</p>\n",
       "</div>"
      ],
      "text/plain": [
       "                                           StartDate  \\\n",
       "0                                         Start Date   \n",
       "1  {\"ImportId\":\"startDate\",\"timeZone\":\"Europe/Ber...   \n",
       "2                                2019-06-04 08:44:13   \n",
       "3                                2019-06-05 09:36:31   \n",
       "4                                2019-06-06 17:08:29   \n",
       "\n",
       "                                             EndDate                 Status  \\\n",
       "0                                           End Date          Response Type   \n",
       "1  {\"ImportId\":\"endDate\",\"timeZone\":\"Europe/Berlin\"}  {\"ImportId\":\"status\"}   \n",
       "2                                2019-06-04 08:45:32             IP Address   \n",
       "3                                2019-06-05 09:40:19             IP Address   \n",
       "4                                2019-06-06 17:08:42             IP Address   \n",
       "\n",
       "                  Progress    Duration (in seconds)                 Finished  \\\n",
       "0                 Progress    Duration (in seconds)                 Finished   \n",
       "1  {\"ImportId\":\"progress\"}  {\"ImportId\":\"duration\"}  {\"ImportId\":\"finished\"}   \n",
       "2                      100                       79                     True   \n",
       "3                      100                      228                     True   \n",
       "4                      100                       12                     True   \n",
       "\n",
       "                                        RecordedDate  \\\n",
       "0                                      Recorded Date   \n",
       "1  {\"ImportId\":\"recordedDate\",\"timeZone\":\"Europe/...   \n",
       "2                                2019-06-04 08:45:32   \n",
       "3                                2019-06-05 09:40:19   \n",
       "4                                2019-06-06 17:08:42   \n",
       "\n",
       "                 ResponseId                 DistributionChannel  \\\n",
       "0               Response ID                Distribution Channel   \n",
       "1  {\"ImportId\":\"_recordId\"}  {\"ImportId\":\"distributionChannel\"}   \n",
       "2         R_10MWmq3mVJVgggs                           anonymous   \n",
       "3         R_1Ley5R6gxeEX0dX                           anonymous   \n",
       "4         R_1Lcll5Zp1u4ERAT                           anonymous   \n",
       "\n",
       "                  UserLanguage  ...                 device_model  \\\n",
       "0                User Language  ...                 device_model   \n",
       "1  {\"ImportId\":\"userLanguage\"}  ...  {\"ImportId\":\"device_model\"}   \n",
       "2                           EN  ...                     iPhone X   \n",
       "3                           EN  ...                     iPhone 8   \n",
       "4                           EN  ...                     iPhone X   \n",
       "\n",
       "                  operating_system_name  \\\n",
       "0                 operating_system_name   \n",
       "1  {\"ImportId\":\"operating_system_name\"}   \n",
       "2                                   iOS   \n",
       "3                                   iOS   \n",
       "4                                   iOS   \n",
       "\n",
       "                  operating_system_version                 app_version  \\\n",
       "0                 operating_system_version                 app_version   \n",
       "1  {\"ImportId\":\"operating_system_version\"}  {\"ImportId\":\"app_version\"}   \n",
       "2                                   12.3.1                       2.0.1   \n",
       "3                                   12.3.1                       2.0.1   \n",
       "4                                   12.3.1                       2.0.1   \n",
       "\n",
       "                  build_number  \\\n",
       "0                 build_number   \n",
       "1  {\"ImportId\":\"build_number\"}   \n",
       "2                         3313   \n",
       "3                         3313   \n",
       "4                         3313   \n",
       "\n",
       "                             Q3 - Sentiment Polarity  \\\n",
       "0                            Q3 - Sentiment Polarity   \n",
       "1  {\"ImportId\":\"QID2_TEXT_9d097c598dd842c980e9fcc...   \n",
       "2                                                  0   \n",
       "3                                                  1   \n",
       "4                                                NaN   \n",
       "\n",
       "                                Q3 - Sentiment Score  \\\n",
       "0                               Q3 - Sentiment Score   \n",
       "1  {\"ImportId\":\"QID2_TEXT_9d097c598dd842c980e9fcc...   \n",
       "2                                                 -1   \n",
       "3                                                  1   \n",
       "4                                                NaN   \n",
       "\n",
       "                                      Q3 - Sentiment  \\\n",
       "0                                     Q3 - Sentiment   \n",
       "1  {\"ImportId\":\"QID2_TEXT_9d097c598dd842c980e9fcc...   \n",
       "2                                           Negative   \n",
       "3                                           Positive   \n",
       "4                                                NaN   \n",
       "\n",
       "                                         Q3 - Topics  \\\n",
       "0                                        Q3 - Topics   \n",
       "1  {\"ImportId\":\"QID2_TEXT_9d097c598dd842c980e9fcc...   \n",
       "2                                            Unknown   \n",
       "3                                            Unknown   \n",
       "4                                                NaN   \n",
       "\n",
       "                             Topic  \n",
       "0                            Topic  \n",
       "1  {\"ImportId\":\"Topic_CEDfxhe5s1\"}  \n",
       "2                   Funktionalität  \n",
       "3                 Falsche Einträge  \n",
       "4                              NaN  \n",
       "\n",
       "[5 rows x 27 columns]"
      ]
     },
     "execution_count": 15,
     "metadata": {},
     "output_type": "execute_result"
    }
   ],
   "source": [
    "import pandas as pd\n",
    "import numpy as np \n",
    "\n",
    "df = pd.read_csv('operations_feedbacks.csv')\n",
    "df.info()\n",
    "df.head()"
   ]
  },
  {
   "cell_type": "markdown",
   "metadata": {},
   "source": [
    "## Cleaning"
   ]
  },
  {
   "cell_type": "code",
   "execution_count": 7,
   "metadata": {},
   "outputs": [
    {
     "data": {
      "text/html": [
       "<div>\n",
       "<style scoped>\n",
       "    .dataframe tbody tr th:only-of-type {\n",
       "        vertical-align: middle;\n",
       "    }\n",
       "\n",
       "    .dataframe tbody tr th {\n",
       "        vertical-align: top;\n",
       "    }\n",
       "\n",
       "    .dataframe thead th {\n",
       "        text-align: right;\n",
       "    }\n",
       "</style>\n",
       "<table border=\"1\" class=\"dataframe\">\n",
       "  <thead>\n",
       "    <tr style=\"text-align: right;\">\n",
       "      <th></th>\n",
       "      <th>StartDate</th>\n",
       "      <th>EndDate</th>\n",
       "      <th>Status</th>\n",
       "      <th>Progress</th>\n",
       "      <th>Duration (in seconds)</th>\n",
       "      <th>Finished</th>\n",
       "      <th>RecordedDate</th>\n",
       "      <th>ResponseId</th>\n",
       "      <th>DistributionChannel</th>\n",
       "      <th>UserLanguage</th>\n",
       "      <th>...</th>\n",
       "      <th>device_model</th>\n",
       "      <th>operating_system_name</th>\n",
       "      <th>operating_system_version</th>\n",
       "      <th>app_version</th>\n",
       "      <th>build_number</th>\n",
       "      <th>Q3 - Sentiment Polarity</th>\n",
       "      <th>Q3 - Sentiment Score</th>\n",
       "      <th>Q3 - Sentiment</th>\n",
       "      <th>Q3 - Topics</th>\n",
       "      <th>Topic</th>\n",
       "    </tr>\n",
       "  </thead>\n",
       "  <tbody>\n",
       "    <tr>\n",
       "      <td>2</td>\n",
       "      <td>2019-06-04 08:44:13</td>\n",
       "      <td>2019-06-04 08:45:32</td>\n",
       "      <td>IP Address</td>\n",
       "      <td>100</td>\n",
       "      <td>79</td>\n",
       "      <td>True</td>\n",
       "      <td>2019-06-04 08:45:32</td>\n",
       "      <td>R_10MWmq3mVJVgggs</td>\n",
       "      <td>anonymous</td>\n",
       "      <td>EN</td>\n",
       "      <td>...</td>\n",
       "      <td>iPhone X</td>\n",
       "      <td>iOS</td>\n",
       "      <td>12.3.1</td>\n",
       "      <td>2.0.1</td>\n",
       "      <td>3313</td>\n",
       "      <td>0</td>\n",
       "      <td>-1</td>\n",
       "      <td>Negative</td>\n",
       "      <td>Unknown</td>\n",
       "      <td>Funktionalität</td>\n",
       "    </tr>\n",
       "    <tr>\n",
       "      <td>3</td>\n",
       "      <td>2019-06-05 09:36:31</td>\n",
       "      <td>2019-06-05 09:40:19</td>\n",
       "      <td>IP Address</td>\n",
       "      <td>100</td>\n",
       "      <td>228</td>\n",
       "      <td>True</td>\n",
       "      <td>2019-06-05 09:40:19</td>\n",
       "      <td>R_1Ley5R6gxeEX0dX</td>\n",
       "      <td>anonymous</td>\n",
       "      <td>EN</td>\n",
       "      <td>...</td>\n",
       "      <td>iPhone 8</td>\n",
       "      <td>iOS</td>\n",
       "      <td>12.3.1</td>\n",
       "      <td>2.0.1</td>\n",
       "      <td>3313</td>\n",
       "      <td>1</td>\n",
       "      <td>1</td>\n",
       "      <td>Positive</td>\n",
       "      <td>Unknown</td>\n",
       "      <td>Falsche Einträge</td>\n",
       "    </tr>\n",
       "    <tr>\n",
       "      <td>4</td>\n",
       "      <td>2019-06-06 17:08:29</td>\n",
       "      <td>2019-06-06 17:08:42</td>\n",
       "      <td>IP Address</td>\n",
       "      <td>100</td>\n",
       "      <td>12</td>\n",
       "      <td>True</td>\n",
       "      <td>2019-06-06 17:08:42</td>\n",
       "      <td>R_1Lcll5Zp1u4ERAT</td>\n",
       "      <td>anonymous</td>\n",
       "      <td>EN</td>\n",
       "      <td>...</td>\n",
       "      <td>iPhone X</td>\n",
       "      <td>iOS</td>\n",
       "      <td>12.3.1</td>\n",
       "      <td>2.0.1</td>\n",
       "      <td>3313</td>\n",
       "      <td>NaN</td>\n",
       "      <td>NaN</td>\n",
       "      <td>NaN</td>\n",
       "      <td>NaN</td>\n",
       "      <td>NaN</td>\n",
       "    </tr>\n",
       "    <tr>\n",
       "      <td>5</td>\n",
       "      <td>2019-06-06 21:45:13</td>\n",
       "      <td>2019-06-06 21:46:13</td>\n",
       "      <td>IP Address</td>\n",
       "      <td>100</td>\n",
       "      <td>59</td>\n",
       "      <td>True</td>\n",
       "      <td>2019-06-06 21:46:13</td>\n",
       "      <td>R_3JeYS9ZJNeUnEbJ</td>\n",
       "      <td>anonymous</td>\n",
       "      <td>EN</td>\n",
       "      <td>...</td>\n",
       "      <td>iPhone 7</td>\n",
       "      <td>iOS</td>\n",
       "      <td>12.3.1</td>\n",
       "      <td>2.0.1</td>\n",
       "      <td>3313</td>\n",
       "      <td>0</td>\n",
       "      <td>-8</td>\n",
       "      <td>Negative</td>\n",
       "      <td>Unknown</td>\n",
       "      <td>Feature</td>\n",
       "    </tr>\n",
       "    <tr>\n",
       "      <td>6</td>\n",
       "      <td>2019-06-08 18:55:31</td>\n",
       "      <td>2019-06-08 18:55:39</td>\n",
       "      <td>IP Address</td>\n",
       "      <td>100</td>\n",
       "      <td>8</td>\n",
       "      <td>True</td>\n",
       "      <td>2019-06-08 18:55:40</td>\n",
       "      <td>R_Y6sIzOg03u9FdAJ</td>\n",
       "      <td>anonymous</td>\n",
       "      <td>EN</td>\n",
       "      <td>...</td>\n",
       "      <td>iPhone 6s</td>\n",
       "      <td>iOS</td>\n",
       "      <td>12.3.1</td>\n",
       "      <td>2.0.1</td>\n",
       "      <td>3313</td>\n",
       "      <td>NaN</td>\n",
       "      <td>NaN</td>\n",
       "      <td>NaN</td>\n",
       "      <td>NaN</td>\n",
       "      <td>NaN</td>\n",
       "    </tr>\n",
       "  </tbody>\n",
       "</table>\n",
       "<p>5 rows × 27 columns</p>\n",
       "</div>"
      ],
      "text/plain": [
       "             StartDate              EndDate      Status Progress  \\\n",
       "2  2019-06-04 08:44:13  2019-06-04 08:45:32  IP Address      100   \n",
       "3  2019-06-05 09:36:31  2019-06-05 09:40:19  IP Address      100   \n",
       "4  2019-06-06 17:08:29  2019-06-06 17:08:42  IP Address      100   \n",
       "5  2019-06-06 21:45:13  2019-06-06 21:46:13  IP Address      100   \n",
       "6  2019-06-08 18:55:31  2019-06-08 18:55:39  IP Address      100   \n",
       "\n",
       "  Duration (in seconds) Finished         RecordedDate         ResponseId  \\\n",
       "2                    79     True  2019-06-04 08:45:32  R_10MWmq3mVJVgggs   \n",
       "3                   228     True  2019-06-05 09:40:19  R_1Ley5R6gxeEX0dX   \n",
       "4                    12     True  2019-06-06 17:08:42  R_1Lcll5Zp1u4ERAT   \n",
       "5                    59     True  2019-06-06 21:46:13  R_3JeYS9ZJNeUnEbJ   \n",
       "6                     8     True  2019-06-08 18:55:40  R_Y6sIzOg03u9FdAJ   \n",
       "\n",
       "  DistributionChannel UserLanguage  ... device_model operating_system_name  \\\n",
       "2           anonymous           EN  ...     iPhone X                   iOS   \n",
       "3           anonymous           EN  ...     iPhone 8                   iOS   \n",
       "4           anonymous           EN  ...     iPhone X                   iOS   \n",
       "5           anonymous           EN  ...     iPhone 7                   iOS   \n",
       "6           anonymous           EN  ...    iPhone 6s                   iOS   \n",
       "\n",
       "  operating_system_version app_version build_number Q3 - Sentiment Polarity  \\\n",
       "2                   12.3.1       2.0.1         3313                       0   \n",
       "3                   12.3.1       2.0.1         3313                       1   \n",
       "4                   12.3.1       2.0.1         3313                     NaN   \n",
       "5                   12.3.1       2.0.1         3313                       0   \n",
       "6                   12.3.1       2.0.1         3313                     NaN   \n",
       "\n",
       "  Q3 - Sentiment Score Q3 - Sentiment Q3 - Topics             Topic  \n",
       "2                   -1       Negative     Unknown    Funktionalität  \n",
       "3                    1       Positive     Unknown  Falsche Einträge  \n",
       "4                  NaN            NaN         NaN               NaN  \n",
       "5                   -8       Negative     Unknown           Feature  \n",
       "6                  NaN            NaN         NaN               NaN  \n",
       "\n",
       "[5 rows x 27 columns]"
      ]
     },
     "execution_count": 7,
     "metadata": {},
     "output_type": "execute_result"
    }
   ],
   "source": [
    "# drop first two rows\n",
    "df.drop(df.index[0:2], inplace=True)\n",
    "df.head(5)"
   ]
  },
  {
   "cell_type": "code",
   "execution_count": 8,
   "metadata": {},
   "outputs": [
    {
     "data": {
      "text/html": [
       "<div>\n",
       "<style scoped>\n",
       "    .dataframe tbody tr th:only-of-type {\n",
       "        vertical-align: middle;\n",
       "    }\n",
       "\n",
       "    .dataframe tbody tr th {\n",
       "        vertical-align: top;\n",
       "    }\n",
       "\n",
       "    .dataframe thead th {\n",
       "        text-align: right;\n",
       "    }\n",
       "</style>\n",
       "<table border=\"1\" class=\"dataframe\">\n",
       "  <thead>\n",
       "    <tr style=\"text-align: right;\">\n",
       "      <th></th>\n",
       "      <th>StartDate</th>\n",
       "      <th>EndDate</th>\n",
       "      <th>operating_system_name</th>\n",
       "      <th>app_version</th>\n",
       "      <th>Q3</th>\n",
       "      <th>Rating</th>\n",
       "    </tr>\n",
       "  </thead>\n",
       "  <tbody>\n",
       "    <tr>\n",
       "      <td>2</td>\n",
       "      <td>2019-06-04 08:44:13</td>\n",
       "      <td>2019-06-04 08:45:32</td>\n",
       "      <td>iOS</td>\n",
       "      <td>2.0.1</td>\n",
       "      <td>Nur Probleme mit Online Service werde immer na...</td>\n",
       "      <td>1</td>\n",
       "    </tr>\n",
       "    <tr>\n",
       "      <td>3</td>\n",
       "      <td>2019-06-05 09:36:31</td>\n",
       "      <td>2019-06-05 09:40:19</td>\n",
       "      <td>iOS</td>\n",
       "      <td>2.0.1</td>\n",
       "      <td>Sehr geehrte Damen und Herren,  bitte aktualis...</td>\n",
       "      <td>5</td>\n",
       "    </tr>\n",
       "    <tr>\n",
       "      <td>4</td>\n",
       "      <td>2019-06-06 17:08:29</td>\n",
       "      <td>2019-06-06 17:08:42</td>\n",
       "      <td>iOS</td>\n",
       "      <td>2.0.1</td>\n",
       "      <td>NaN</td>\n",
       "      <td>5</td>\n",
       "    </tr>\n",
       "    <tr>\n",
       "      <td>5</td>\n",
       "      <td>2019-06-06 21:45:13</td>\n",
       "      <td>2019-06-06 21:46:13</td>\n",
       "      <td>iOS</td>\n",
       "      <td>2.0.1</td>\n",
       "      <td>İch möchte gerne die Restschuld meiner Kredite...</td>\n",
       "      <td>2</td>\n",
       "    </tr>\n",
       "    <tr>\n",
       "      <td>6</td>\n",
       "      <td>2019-06-08 18:55:31</td>\n",
       "      <td>2019-06-08 18:55:39</td>\n",
       "      <td>iOS</td>\n",
       "      <td>2.0.1</td>\n",
       "      <td>NaN</td>\n",
       "      <td>5</td>\n",
       "    </tr>\n",
       "  </tbody>\n",
       "</table>\n",
       "</div>"
      ],
      "text/plain": [
       "             StartDate              EndDate operating_system_name app_version  \\\n",
       "2  2019-06-04 08:44:13  2019-06-04 08:45:32                   iOS       2.0.1   \n",
       "3  2019-06-05 09:36:31  2019-06-05 09:40:19                   iOS       2.0.1   \n",
       "4  2019-06-06 17:08:29  2019-06-06 17:08:42                   iOS       2.0.1   \n",
       "5  2019-06-06 21:45:13  2019-06-06 21:46:13                   iOS       2.0.1   \n",
       "6  2019-06-08 18:55:31  2019-06-08 18:55:39                   iOS       2.0.1   \n",
       "\n",
       "                                                  Q3 Rating  \n",
       "2  Nur Probleme mit Online Service werde immer na...      1  \n",
       "3  Sehr geehrte Damen und Herren,  bitte aktualis...      5  \n",
       "4                                                NaN      5  \n",
       "5  İch möchte gerne die Restschuld meiner Kredite...      2  \n",
       "6                                                NaN      5  "
      ]
     },
     "execution_count": 8,
     "metadata": {},
     "output_type": "execute_result"
    }
   ],
   "source": [
    "df1 = df[['StartDate', 'EndDate', 'operating_system_name', 'app_version', 'Q3', 'Rating']]\n",
    "df1.head(5)"
   ]
  },
  {
   "cell_type": "code",
   "execution_count": 18,
   "metadata": {},
   "outputs": [
    {
     "name": "stdout",
     "output_type": "stream",
     "text": [
      "StartDate                3419\n",
      "EndDate                  3419\n",
      "operating_system_name    3419\n",
      "app_version              3419\n",
      "Q3                       1913\n",
      "Rating                   3009\n",
      "dtype: int64\n",
      "1506\n",
      "410\n"
     ]
    }
   ],
   "source": [
    "# total number of observations in the data set \n",
    "print(df1.count())\n",
    "\n",
    "# count feedbacks with no written text \n",
    "print(df1['Q3'].isnull().sum())\n",
    "\n",
    "# count feedbacks with no star rating\n",
    "print(df1['Rating'].isnull().sum())"
   ]
  },
  {
   "cell_type": "code",
   "execution_count": 19,
   "metadata": {},
   "outputs": [
    {
     "data": {
      "text/plain": [
       "1713"
      ]
     },
     "execution_count": 19,
     "metadata": {},
     "output_type": "execute_result"
    }
   ],
   "source": [
    "# drop rows with missing values in written feedback or Rating \n",
    "dfmod = df1.dropna(how='any', subset=['Q3', 'Rating'])\n",
    "dfmod.shape[0]"
   ]
  },
  {
   "cell_type": "code",
   "execution_count": 20,
   "metadata": {},
   "outputs": [
    {
     "data": {
      "text/plain": [
       "Q3\n",
       "Sehr gut                                                                                    4\n",
       "Alles                                                                                       3\n",
       "Super                                                                                       3\n",
       "👎🏻👎🏻                                                                                        2\n",
       "Perfekt                                                                                     2\n",
       "                                                                                           ..\n",
       "Meine Verträge einfach sichtbar machen. Im Web sehe ich diese, in der App nicht...          1\n",
       "Meine Verträge sind nicht sichtbar                                                          1\n",
       "Meine Verträge werden nicht geladen...                                                      1\n",
       "Meine Verträge werden nicht in der App angezeigt. So habe ich mir das nicht vorgestellt.    1\n",
       "                                                                                            1\n",
       "Name: Q3, Length: 1702, dtype: int64"
      ]
     },
     "execution_count": 20,
     "metadata": {},
     "output_type": "execute_result"
    }
   ],
   "source": [
    "# check if any unnoticed missing values are left \n",
    "dfmod.groupby('Q3')['Q3'].count().sort_values(ascending=False)"
   ]
  },
  {
   "cell_type": "code",
   "execution_count": 21,
   "metadata": {},
   "outputs": [
    {
     "data": {
      "text/plain": [
       "StartDate                object\n",
       "EndDate                  object\n",
       "operating_system_name    object\n",
       "app_version              object\n",
       "Q3                       object\n",
       "Rating                   object\n",
       "dtype: object"
      ]
     },
     "execution_count": 21,
     "metadata": {},
     "output_type": "execute_result"
    }
   ],
   "source": [
    "# inspect data types \n",
    "dfmod.dtypes"
   ]
  },
  {
   "cell_type": "code",
   "execution_count": 22,
   "metadata": {},
   "outputs": [
    {
     "data": {
      "text/html": [
       "<div>\n",
       "<style scoped>\n",
       "    .dataframe tbody tr th:only-of-type {\n",
       "        vertical-align: middle;\n",
       "    }\n",
       "\n",
       "    .dataframe tbody tr th {\n",
       "        vertical-align: top;\n",
       "    }\n",
       "\n",
       "    .dataframe thead th {\n",
       "        text-align: right;\n",
       "    }\n",
       "</style>\n",
       "<table border=\"1\" class=\"dataframe\">\n",
       "  <thead>\n",
       "    <tr style=\"text-align: right;\">\n",
       "      <th></th>\n",
       "      <th>StartDate</th>\n",
       "      <th>EndDate</th>\n",
       "      <th>operating_system_name</th>\n",
       "      <th>app_version</th>\n",
       "      <th>Q3</th>\n",
       "      <th>Rating</th>\n",
       "    </tr>\n",
       "  </thead>\n",
       "  <tbody>\n",
       "    <tr>\n",
       "      <td>2</td>\n",
       "      <td>2019-06-04 08:44:13</td>\n",
       "      <td>2019-06-04 08:45:32</td>\n",
       "      <td>iOS</td>\n",
       "      <td>2.0.1</td>\n",
       "      <td>Nur Probleme mit Online Service werde immer na...</td>\n",
       "      <td>1</td>\n",
       "    </tr>\n",
       "    <tr>\n",
       "      <td>3</td>\n",
       "      <td>2019-06-05 09:36:31</td>\n",
       "      <td>2019-06-05 09:40:19</td>\n",
       "      <td>iOS</td>\n",
       "      <td>2.0.1</td>\n",
       "      <td>Sehr geehrte Damen und Herren,  bitte aktualis...</td>\n",
       "      <td>5</td>\n",
       "    </tr>\n",
       "    <tr>\n",
       "      <td>5</td>\n",
       "      <td>2019-06-06 21:45:13</td>\n",
       "      <td>2019-06-06 21:46:13</td>\n",
       "      <td>iOS</td>\n",
       "      <td>2.0.1</td>\n",
       "      <td>İch möchte gerne die Restschuld meiner Kredite...</td>\n",
       "      <td>2</td>\n",
       "    </tr>\n",
       "    <tr>\n",
       "      <td>7</td>\n",
       "      <td>2019-06-09 14:54:07</td>\n",
       "      <td>2019-06-09 14:56:02</td>\n",
       "      <td>iOS</td>\n",
       "      <td>2.0.1</td>\n",
       "      <td>Wenn ich mich auf dem iPhone eilogge kommt imm...</td>\n",
       "      <td>3</td>\n",
       "    </tr>\n",
       "    <tr>\n",
       "      <td>15</td>\n",
       "      <td>2019-06-15 18:10:35</td>\n",
       "      <td>2019-06-15 18:11:41</td>\n",
       "      <td>iOS</td>\n",
       "      <td>2.0.1</td>\n",
       "      <td>Es wäre ganz toll wenn man auch sehen könnte w...</td>\n",
       "      <td>3</td>\n",
       "    </tr>\n",
       "  </tbody>\n",
       "</table>\n",
       "</div>"
      ],
      "text/plain": [
       "              StartDate              EndDate operating_system_name  \\\n",
       "2   2019-06-04 08:44:13  2019-06-04 08:45:32                   iOS   \n",
       "3   2019-06-05 09:36:31  2019-06-05 09:40:19                   iOS   \n",
       "5   2019-06-06 21:45:13  2019-06-06 21:46:13                   iOS   \n",
       "7   2019-06-09 14:54:07  2019-06-09 14:56:02                   iOS   \n",
       "15  2019-06-15 18:10:35  2019-06-15 18:11:41                   iOS   \n",
       "\n",
       "   app_version                                                 Q3 Rating  \n",
       "2        2.0.1  Nur Probleme mit Online Service werde immer na...      1  \n",
       "3        2.0.1  Sehr geehrte Damen und Herren,  bitte aktualis...      5  \n",
       "5        2.0.1  İch möchte gerne die Restschuld meiner Kredite...      2  \n",
       "7        2.0.1  Wenn ich mich auf dem iPhone eilogge kommt imm...      3  \n",
       "15       2.0.1  Es wäre ganz toll wenn man auch sehen könnte w...      3  "
      ]
     },
     "execution_count": 22,
     "metadata": {},
     "output_type": "execute_result"
    }
   ],
   "source": [
    "dfmod.head(5)"
   ]
  },
  {
   "cell_type": "code",
   "execution_count": 23,
   "metadata": {},
   "outputs": [
    {
     "name": "stderr",
     "output_type": "stream",
     "text": [
      "/Users/mmueckshoff/opt/anaconda3/lib/python3.7/site-packages/ipykernel_launcher.py:2: SettingWithCopyWarning: \n",
      "A value is trying to be set on a copy of a slice from a DataFrame.\n",
      "Try using .loc[row_indexer,col_indexer] = value instead\n",
      "\n",
      "See the caveats in the documentation: http://pandas.pydata.org/pandas-docs/stable/user_guide/indexing.html#returning-a-view-versus-a-copy\n",
      "  \n",
      "/Users/mmueckshoff/opt/anaconda3/lib/python3.7/site-packages/ipykernel_launcher.py:3: SettingWithCopyWarning: \n",
      "A value is trying to be set on a copy of a slice from a DataFrame.\n",
      "Try using .loc[row_indexer,col_indexer] = value instead\n",
      "\n",
      "See the caveats in the documentation: http://pandas.pydata.org/pandas-docs/stable/user_guide/indexing.html#returning-a-view-versus-a-copy\n",
      "  This is separate from the ipykernel package so we can avoid doing imports until\n"
     ]
    },
    {
     "data": {
      "text/plain": [
       "StartDate                datetime64[ns]\n",
       "EndDate                  datetime64[ns]\n",
       "operating_system_name            object\n",
       "app_version                      object\n",
       "Q3                               object\n",
       "Rating                           object\n",
       "dtype: object"
      ]
     },
     "execution_count": 23,
     "metadata": {},
     "output_type": "execute_result"
    }
   ],
   "source": [
    "# Convert StartDate and EndDate to datetime variables \n",
    "dfmod['StartDate'] = pd.to_datetime(dfmod['StartDate'], format='%Y-%m-%d %H:%M:%S')\n",
    "dfmod['EndDate'] = pd.to_datetime(dfmod['EndDate'], format='%Y-%m-%d %H:%M:%S')\n",
    "\n",
    "# check if modification was successful \n",
    "dfmod.dtypes"
   ]
  },
  {
   "cell_type": "markdown",
   "metadata": {},
   "source": [
    "## Preperation & Exploration"
   ]
  },
  {
   "cell_type": "code",
   "execution_count": 24,
   "metadata": {},
   "outputs": [
    {
     "name": "stderr",
     "output_type": "stream",
     "text": [
      "/Users/mmueckshoff/opt/anaconda3/lib/python3.7/site-packages/ipykernel_launcher.py:2: SettingWithCopyWarning: \n",
      "A value is trying to be set on a copy of a slice from a DataFrame.\n",
      "Try using .loc[row_indexer,col_indexer] = value instead\n",
      "\n",
      "See the caveats in the documentation: http://pandas.pydata.org/pandas-docs/stable/user_guide/indexing.html#returning-a-view-versus-a-copy\n",
      "  \n"
     ]
    },
    {
     "data": {
      "text/plain": [
       "StartDate                datetime64[ns]\n",
       "EndDate                  datetime64[ns]\n",
       "operating_system_name            object\n",
       "app_version                      object\n",
       "Q3                               object\n",
       "Rating                            int64\n",
       "dtype: object"
      ]
     },
     "execution_count": 24,
     "metadata": {},
     "output_type": "execute_result"
    }
   ],
   "source": [
    "# modify Rating\n",
    "dfmod['Rating'] = dfmod['Rating'].astype(int)\n",
    "dfmod.dtypes"
   ]
  },
  {
   "cell_type": "code",
   "execution_count": 25,
   "metadata": {},
   "outputs": [
    {
     "name": "stderr",
     "output_type": "stream",
     "text": [
      "/Users/mmueckshoff/opt/anaconda3/lib/python3.7/site-packages/ipykernel_launcher.py:2: SettingWithCopyWarning: \n",
      "A value is trying to be set on a copy of a slice from a DataFrame.\n",
      "Try using .loc[row_indexer,col_indexer] = value instead\n",
      "\n",
      "See the caveats in the documentation: http://pandas.pydata.org/pandas-docs/stable/user_guide/indexing.html#returning-a-view-versus-a-copy\n",
      "  \n"
     ]
    },
    {
     "data": {
      "text/html": [
       "<div>\n",
       "<style scoped>\n",
       "    .dataframe tbody tr th:only-of-type {\n",
       "        vertical-align: middle;\n",
       "    }\n",
       "\n",
       "    .dataframe tbody tr th {\n",
       "        vertical-align: top;\n",
       "    }\n",
       "\n",
       "    .dataframe thead th {\n",
       "        text-align: right;\n",
       "    }\n",
       "</style>\n",
       "<table border=\"1\" class=\"dataframe\">\n",
       "  <thead>\n",
       "    <tr style=\"text-align: right;\">\n",
       "      <th></th>\n",
       "      <th>StartDate</th>\n",
       "      <th>EndDate</th>\n",
       "      <th>operating_system_name</th>\n",
       "      <th>app_version</th>\n",
       "      <th>Q3</th>\n",
       "      <th>Rating</th>\n",
       "      <th>Rating_binary</th>\n",
       "    </tr>\n",
       "  </thead>\n",
       "  <tbody>\n",
       "    <tr>\n",
       "      <td>2</td>\n",
       "      <td>2019-06-04 08:44:13</td>\n",
       "      <td>2019-06-04 08:45:32</td>\n",
       "      <td>iOS</td>\n",
       "      <td>2.0.1</td>\n",
       "      <td>Nur Probleme mit Online Service werde immer na...</td>\n",
       "      <td>1</td>\n",
       "      <td>0</td>\n",
       "    </tr>\n",
       "    <tr>\n",
       "      <td>3</td>\n",
       "      <td>2019-06-05 09:36:31</td>\n",
       "      <td>2019-06-05 09:40:19</td>\n",
       "      <td>iOS</td>\n",
       "      <td>2.0.1</td>\n",
       "      <td>Sehr geehrte Damen und Herren,  bitte aktualis...</td>\n",
       "      <td>5</td>\n",
       "      <td>1</td>\n",
       "    </tr>\n",
       "    <tr>\n",
       "      <td>5</td>\n",
       "      <td>2019-06-06 21:45:13</td>\n",
       "      <td>2019-06-06 21:46:13</td>\n",
       "      <td>iOS</td>\n",
       "      <td>2.0.1</td>\n",
       "      <td>İch möchte gerne die Restschuld meiner Kredite...</td>\n",
       "      <td>2</td>\n",
       "      <td>0</td>\n",
       "    </tr>\n",
       "    <tr>\n",
       "      <td>7</td>\n",
       "      <td>2019-06-09 14:54:07</td>\n",
       "      <td>2019-06-09 14:56:02</td>\n",
       "      <td>iOS</td>\n",
       "      <td>2.0.1</td>\n",
       "      <td>Wenn ich mich auf dem iPhone eilogge kommt imm...</td>\n",
       "      <td>3</td>\n",
       "      <td>0</td>\n",
       "    </tr>\n",
       "    <tr>\n",
       "      <td>15</td>\n",
       "      <td>2019-06-15 18:10:35</td>\n",
       "      <td>2019-06-15 18:11:41</td>\n",
       "      <td>iOS</td>\n",
       "      <td>2.0.1</td>\n",
       "      <td>Es wäre ganz toll wenn man auch sehen könnte w...</td>\n",
       "      <td>3</td>\n",
       "      <td>0</td>\n",
       "    </tr>\n",
       "  </tbody>\n",
       "</table>\n",
       "</div>"
      ],
      "text/plain": [
       "             StartDate             EndDate operating_system_name app_version  \\\n",
       "2  2019-06-04 08:44:13 2019-06-04 08:45:32                   iOS       2.0.1   \n",
       "3  2019-06-05 09:36:31 2019-06-05 09:40:19                   iOS       2.0.1   \n",
       "5  2019-06-06 21:45:13 2019-06-06 21:46:13                   iOS       2.0.1   \n",
       "7  2019-06-09 14:54:07 2019-06-09 14:56:02                   iOS       2.0.1   \n",
       "15 2019-06-15 18:10:35 2019-06-15 18:11:41                   iOS       2.0.1   \n",
       "\n",
       "                                                   Q3  Rating  Rating_binary  \n",
       "2   Nur Probleme mit Online Service werde immer na...       1              0  \n",
       "3   Sehr geehrte Damen und Herren,  bitte aktualis...       5              1  \n",
       "5   İch möchte gerne die Restschuld meiner Kredite...       2              0  \n",
       "7   Wenn ich mich auf dem iPhone eilogge kommt imm...       3              0  \n",
       "15  Es wäre ganz toll wenn man auch sehen könnte w...       3              0  "
      ]
     },
     "execution_count": 25,
     "metadata": {},
     "output_type": "execute_result"
    }
   ],
   "source": [
    "# convert Rating to binary variable with labes 'happy' and 'sad'\n",
    "dfmod['Rating_binary'] = dfmod['Rating'].apply(lambda x: 1 if x >=4 else 0)\n",
    "dfmod.head(5)"
   ]
  },
  {
   "cell_type": "code",
   "execution_count": 26,
   "metadata": {},
   "outputs": [
    {
     "data": {
      "text/plain": [
       "StartDate                datetime64[ns]\n",
       "EndDate                  datetime64[ns]\n",
       "operating_system_name            object\n",
       "app_version                      object\n",
       "Q3                               object\n",
       "Rating                            int64\n",
       "Rating_binary                     int64\n",
       "dtype: object"
      ]
     },
     "execution_count": 26,
     "metadata": {},
     "output_type": "execute_result"
    }
   ],
   "source": [
    "dfmod.dtypes"
   ]
  },
  {
   "cell_type": "code",
   "execution_count": 44,
   "metadata": {},
   "outputs": [
    {
     "name": "stderr",
     "output_type": "stream",
     "text": [
      "/Users/mmueckshoff/opt/anaconda3/lib/python3.7/site-packages/ipykernel_launcher.py:1: SettingWithCopyWarning: \n",
      "A value is trying to be set on a copy of a slice from a DataFrame.\n",
      "Try using .loc[row_indexer,col_indexer] = value instead\n",
      "\n",
      "See the caveats in the documentation: http://pandas.pydata.org/pandas-docs/stable/user_guide/indexing.html#returning-a-view-versus-a-copy\n",
      "  \"\"\"Entry point for launching an IPython kernel.\n"
     ]
    },
    {
     "data": {
      "text/html": [
       "<div>\n",
       "<style scoped>\n",
       "    .dataframe tbody tr th:only-of-type {\n",
       "        vertical-align: middle;\n",
       "    }\n",
       "\n",
       "    .dataframe tbody tr th {\n",
       "        vertical-align: top;\n",
       "    }\n",
       "\n",
       "    .dataframe thead th {\n",
       "        text-align: right;\n",
       "    }\n",
       "</style>\n",
       "<table border=\"1\" class=\"dataframe\">\n",
       "  <thead>\n",
       "    <tr style=\"text-align: right;\">\n",
       "      <th></th>\n",
       "      <th>StartDate</th>\n",
       "      <th>EndDate</th>\n",
       "      <th>operating_system_name</th>\n",
       "      <th>app_version</th>\n",
       "      <th>Q3</th>\n",
       "      <th>Rating</th>\n",
       "      <th>Rating_binary</th>\n",
       "    </tr>\n",
       "  </thead>\n",
       "  <tbody>\n",
       "    <tr>\n",
       "      <td>2</td>\n",
       "      <td>2019-06-04 08:44:13</td>\n",
       "      <td>2019-06-04 08:45:32</td>\n",
       "      <td>iOS</td>\n",
       "      <td>2.0.1</td>\n",
       "      <td>nur probleme mit online service werde immer na...</td>\n",
       "      <td>1</td>\n",
       "      <td>0</td>\n",
       "    </tr>\n",
       "    <tr>\n",
       "      <td>3</td>\n",
       "      <td>2019-06-05 09:36:31</td>\n",
       "      <td>2019-06-05 09:40:19</td>\n",
       "      <td>iOS</td>\n",
       "      <td>2.0.1</td>\n",
       "      <td>sehr geehrte damen und herren,  bitte aktualis...</td>\n",
       "      <td>5</td>\n",
       "      <td>1</td>\n",
       "    </tr>\n",
       "    <tr>\n",
       "      <td>5</td>\n",
       "      <td>2019-06-06 21:45:13</td>\n",
       "      <td>2019-06-06 21:46:13</td>\n",
       "      <td>iOS</td>\n",
       "      <td>2.0.1</td>\n",
       "      <td>i̇ch möchte gerne die restschuld meiner kredit...</td>\n",
       "      <td>2</td>\n",
       "      <td>0</td>\n",
       "    </tr>\n",
       "    <tr>\n",
       "      <td>7</td>\n",
       "      <td>2019-06-09 14:54:07</td>\n",
       "      <td>2019-06-09 14:56:02</td>\n",
       "      <td>iOS</td>\n",
       "      <td>2.0.1</td>\n",
       "      <td>wenn ich mich auf dem iphone eilogge kommt imm...</td>\n",
       "      <td>3</td>\n",
       "      <td>0</td>\n",
       "    </tr>\n",
       "    <tr>\n",
       "      <td>15</td>\n",
       "      <td>2019-06-15 18:10:35</td>\n",
       "      <td>2019-06-15 18:11:41</td>\n",
       "      <td>iOS</td>\n",
       "      <td>2.0.1</td>\n",
       "      <td>es wäre ganz toll wenn man auch sehen könnte w...</td>\n",
       "      <td>3</td>\n",
       "      <td>0</td>\n",
       "    </tr>\n",
       "  </tbody>\n",
       "</table>\n",
       "</div>"
      ],
      "text/plain": [
       "             StartDate             EndDate operating_system_name app_version  \\\n",
       "2  2019-06-04 08:44:13 2019-06-04 08:45:32                   iOS       2.0.1   \n",
       "3  2019-06-05 09:36:31 2019-06-05 09:40:19                   iOS       2.0.1   \n",
       "5  2019-06-06 21:45:13 2019-06-06 21:46:13                   iOS       2.0.1   \n",
       "7  2019-06-09 14:54:07 2019-06-09 14:56:02                   iOS       2.0.1   \n",
       "15 2019-06-15 18:10:35 2019-06-15 18:11:41                   iOS       2.0.1   \n",
       "\n",
       "                                                   Q3  Rating  Rating_binary  \n",
       "2   nur probleme mit online service werde immer na...       1              0  \n",
       "3   sehr geehrte damen und herren,  bitte aktualis...       5              1  \n",
       "5   i̇ch möchte gerne die restschuld meiner kredit...       2              0  \n",
       "7   wenn ich mich auf dem iphone eilogge kommt imm...       3              0  \n",
       "15  es wäre ganz toll wenn man auch sehen könnte w...       3              0  "
      ]
     },
     "execution_count": 44,
     "metadata": {},
     "output_type": "execute_result"
    }
   ],
   "source": [
    "dfmod['Q3'] = dfmod['Q3'].str.lower()\n",
    "dfmod.head()"
   ]
  },
  {
   "cell_type": "code",
   "execution_count": 46,
   "metadata": {},
   "outputs": [
    {
     "name": "stderr",
     "output_type": "stream",
     "text": [
      "/Users/mmueckshoff/opt/anaconda3/lib/python3.7/site-packages/ipykernel_launcher.py:2: SettingWithCopyWarning: \n",
      "A value is trying to be set on a copy of a slice from a DataFrame.\n",
      "Try using .loc[row_indexer,col_indexer] = value instead\n",
      "\n",
      "See the caveats in the documentation: http://pandas.pydata.org/pandas-docs/stable/user_guide/indexing.html#returning-a-view-versus-a-copy\n",
      "  \n"
     ]
    },
    {
     "data": {
      "text/html": [
       "<div>\n",
       "<style scoped>\n",
       "    .dataframe tbody tr th:only-of-type {\n",
       "        vertical-align: middle;\n",
       "    }\n",
       "\n",
       "    .dataframe tbody tr th {\n",
       "        vertical-align: top;\n",
       "    }\n",
       "\n",
       "    .dataframe thead th {\n",
       "        text-align: right;\n",
       "    }\n",
       "</style>\n",
       "<table border=\"1\" class=\"dataframe\">\n",
       "  <thead>\n",
       "    <tr style=\"text-align: right;\">\n",
       "      <th></th>\n",
       "      <th>StartDate</th>\n",
       "      <th>EndDate</th>\n",
       "      <th>operating_system_name</th>\n",
       "      <th>app_version</th>\n",
       "      <th>Q3</th>\n",
       "      <th>Rating</th>\n",
       "      <th>Rating_binary</th>\n",
       "      <th>feedback_length</th>\n",
       "    </tr>\n",
       "  </thead>\n",
       "  <tbody>\n",
       "    <tr>\n",
       "      <td>2</td>\n",
       "      <td>2019-06-04 08:44:13</td>\n",
       "      <td>2019-06-04 08:45:32</td>\n",
       "      <td>iOS</td>\n",
       "      <td>2.0.1</td>\n",
       "      <td>nur probleme mit online service werde immer na...</td>\n",
       "      <td>1</td>\n",
       "      <td>0</td>\n",
       "      <td>113</td>\n",
       "    </tr>\n",
       "    <tr>\n",
       "      <td>3</td>\n",
       "      <td>2019-06-05 09:36:31</td>\n",
       "      <td>2019-06-05 09:40:19</td>\n",
       "      <td>iOS</td>\n",
       "      <td>2.0.1</td>\n",
       "      <td>sehr geehrte damen und herren,  bitte aktualis...</td>\n",
       "      <td>5</td>\n",
       "      <td>1</td>\n",
       "      <td>197</td>\n",
       "    </tr>\n",
       "    <tr>\n",
       "      <td>5</td>\n",
       "      <td>2019-06-06 21:45:13</td>\n",
       "      <td>2019-06-06 21:46:13</td>\n",
       "      <td>iOS</td>\n",
       "      <td>2.0.1</td>\n",
       "      <td>i̇ch möchte gerne die restschuld meiner kredit...</td>\n",
       "      <td>2</td>\n",
       "      <td>0</td>\n",
       "      <td>54</td>\n",
       "    </tr>\n",
       "    <tr>\n",
       "      <td>7</td>\n",
       "      <td>2019-06-09 14:54:07</td>\n",
       "      <td>2019-06-09 14:56:02</td>\n",
       "      <td>iOS</td>\n",
       "      <td>2.0.1</td>\n",
       "      <td>wenn ich mich auf dem iphone eilogge kommt imm...</td>\n",
       "      <td>3</td>\n",
       "      <td>0</td>\n",
       "      <td>198</td>\n",
       "    </tr>\n",
       "    <tr>\n",
       "      <td>15</td>\n",
       "      <td>2019-06-15 18:10:35</td>\n",
       "      <td>2019-06-15 18:11:41</td>\n",
       "      <td>iOS</td>\n",
       "      <td>2.0.1</td>\n",
       "      <td>es wäre ganz toll wenn man auch sehen könnte w...</td>\n",
       "      <td>3</td>\n",
       "      <td>0</td>\n",
       "      <td>85</td>\n",
       "    </tr>\n",
       "  </tbody>\n",
       "</table>\n",
       "</div>"
      ],
      "text/plain": [
       "             StartDate             EndDate operating_system_name app_version  \\\n",
       "2  2019-06-04 08:44:13 2019-06-04 08:45:32                   iOS       2.0.1   \n",
       "3  2019-06-05 09:36:31 2019-06-05 09:40:19                   iOS       2.0.1   \n",
       "5  2019-06-06 21:45:13 2019-06-06 21:46:13                   iOS       2.0.1   \n",
       "7  2019-06-09 14:54:07 2019-06-09 14:56:02                   iOS       2.0.1   \n",
       "15 2019-06-15 18:10:35 2019-06-15 18:11:41                   iOS       2.0.1   \n",
       "\n",
       "                                                   Q3  Rating  Rating_binary  \\\n",
       "2   nur probleme mit online service werde immer na...       1              0   \n",
       "3   sehr geehrte damen und herren,  bitte aktualis...       5              1   \n",
       "5   i̇ch möchte gerne die restschuld meiner kredit...       2              0   \n",
       "7   wenn ich mich auf dem iphone eilogge kommt imm...       3              0   \n",
       "15  es wäre ganz toll wenn man auch sehen könnte w...       3              0   \n",
       "\n",
       "    feedback_length  \n",
       "2               113  \n",
       "3               197  \n",
       "5                54  \n",
       "7               198  \n",
       "15               85  "
      ]
     },
     "execution_count": 46,
     "metadata": {},
     "output_type": "execute_result"
    }
   ],
   "source": [
    "# add a variable indicating the length of the feedback \n",
    "dfmod['feedback_length'] = dfmod['Q3'].apply(len)\n",
    "dfmod.head()"
   ]
  },
  {
   "cell_type": "code",
   "execution_count": 49,
   "metadata": {},
   "outputs": [
    {
     "data": {
      "text/plain": [
       "<seaborn.axisgrid.FacetGrid at 0x7fc16a5aa910>"
      ]
     },
     "execution_count": 49,
     "metadata": {},
     "output_type": "execute_result"
    },
    {
     "data": {
      "image/png": "[encoded data removed]",
      "text/plain": [
       "<Figure size 1080x216 with 5 Axes>"
      ]
     },
     "metadata": {
      "needs_background": "light"
     },
     "output_type": "display_data"
    }
   ],
   "source": [
    "import seaborn as sns\n",
    "import matplotlib.pyplot as plt\n",
    "sns.set_style('white')\n",
    "%matplotlib inline\n",
    "g = sns.FacetGrid(dfmod,col='Rating')\n",
    "g.map(plt.hist,'feedback_length')"
   ]
  },
  {
   "cell_type": "code",
   "execution_count": 51,
   "metadata": {},
   "outputs": [
    {
     "data": {
      "text/plain": [
       "<seaborn.axisgrid.FacetGrid at 0x7fc16bbcee50>"
      ]
     },
     "execution_count": 51,
     "metadata": {},
     "output_type": "execute_result"
    },
    {
     "data": {
      "image/png": "[encoded data removed]",
      "text/plain": [
       "<Figure size 432x216 with 2 Axes>"
      ]
     },
     "metadata": {
      "needs_background": "light"
     },
     "output_type": "display_data"
    }
   ],
   "source": [
    "g = sns.FacetGrid(dfmod,col='Rating_binary')\n",
    "g.map(plt.hist,'feedback_length')"
   ]
  },
  {
   "cell_type": "code",
   "execution_count": 85,
   "metadata": {},
   "outputs": [],
   "source": [
    "# Print most frequent N-grams in the file (code from: https://gist.github.com/benhoyt/dfafeab26d7c02a52ed17b6229f0cb52)\n",
    "import collections\n",
    "import re\n",
    "import sys\n",
    "import time\n",
    "\n",
    "import nltk\n",
    "from nltk.corpus import stopwords\n",
    "from wordcloud import WordCloud\n",
    "\n",
    "def tokenize(string):\n",
    "    \"\"\"Convert string to lowercase and split into words (ignoring\n",
    "    punctuation), returning list of words.\n",
    "    \"\"\"\n",
    "    return re.findall(r'\\w+', string.lower())\n",
    "\n",
    "\n",
    "def count_ngrams(lines, min_length=2, max_length=4):\n",
    "    \"\"\"Iterate through given lines iterator (file object or list of\n",
    "    lines) and return n-gram frequencies. The return value is a dict\n",
    "    mapping the length of the n-gram to a collections.Counter\n",
    "    object of n-gram tuple and number of times that n-gram occurred.\n",
    "    Returned dict includes n-grams of length min_length to max_length.\n",
    "    \"\"\"\n",
    "    lengths = range(min_length, max_length + 1)\n",
    "    ngrams = {length: collections.Counter() for length in lengths}\n",
    "    queue = collections.deque(maxlen=max_length)\n",
    "\n",
    "    # Helper function to add n-grams at start of current queue to dict\n",
    "    def add_queue():\n",
    "        current = tuple(queue)\n",
    "        for length in lengths:\n",
    "            if len(current) >= length:\n",
    "                ngrams[length][current[:length]] += 1\n",
    "\n",
    "    # Loop through all lines and words and add n-grams to dict\n",
    "    for line in lines:\n",
    "        for word in tokenize(line):\n",
    "            queue.append(word)\n",
    "            if len(queue) >= max_length:\n",
    "                add_queue()\n",
    "\n",
    "    # Make sure we get the n-grams at the tail end of the queue\n",
    "    while len(queue) > min_length:\n",
    "        queue.popleft()\n",
    "        add_queue()\n",
    "\n",
    "    return ngrams\n",
    "\n",
    "\n",
    "def print_most_frequent(ngrams, num=10):\n",
    "    \"\"\"Print num most common n-grams of each length in n-grams dict.\"\"\"\n",
    "    for n in sorted(ngrams):\n",
    "        print('----- {} most common {}-grams -----'.format(num, n))\n",
    "        for gram, count in ngrams[n].most_common(num):\n",
    "            print('{0}: {1}'.format(' '.join(gram), count))\n",
    "        print('')"
   ]
  },
  {
   "cell_type": "code",
   "execution_count": 86,
   "metadata": {},
   "outputs": [],
   "source": [
    "def print_word_cloud(ngrams, num=5):\n",
    "    \"\"\"Print word cloud image plot \"\"\"\n",
    "    words = []\n",
    "    for n in sorted(ngrams):\n",
    "        for gram, count in ngrams[n].most_common(num):\n",
    "            s = ' '.join(gram)\n",
    "            words.append(s)\n",
    "            \n",
    "    cloud = WordCloud(width=1440, height= 1080,max_words= 200).generate(' '.join(words))\n",
    "    plt.figure(figsize=(20, 15))\n",
    "    plt.imshow(cloud)\n",
    "    plt.axis('off');\n",
    "    plt.show()\n",
    "    print('')"
   ]
  },
  {
   "cell_type": "code",
   "execution_count": 75,
   "metadata": {},
   "outputs": [
    {
     "data": {
      "text/plain": [
       "3     sehr geehrte damen und herren,  bitte aktualis...\n",
       "17                  kann ich momentan nicht entscheiden\n",
       "23    die app ist sehr übersichtlich und durchdacht,...\n",
       "26                                            ist i o  \n",
       "30                   ooops vorher zu früh abgeschickt 🤓\n",
       "Name: Q3, dtype: object"
      ]
     },
     "execution_count": 75,
     "metadata": {},
     "output_type": "execute_result"
    }
   ],
   "source": [
    "happy_feedbacks = dfmod.query('Rating_binary == 1')['Q3']\n",
    "happy_feedbacks.head()"
   ]
  },
  {
   "cell_type": "code",
   "execution_count": 76,
   "metadata": {},
   "outputs": [
    {
     "data": {
      "text/plain": [
       "2     nur probleme mit online service werde immer na...\n",
       "5     i̇ch möchte gerne die restschuld meiner kredit...\n",
       "7     wenn ich mich auf dem iphone eilogge kommt imm...\n",
       "15    es wäre ganz toll wenn man auch sehen könnte w...\n",
       "20    anmeldung ist nervig. passworteinschränkungen ...\n",
       "Name: Q3, dtype: object"
      ]
     },
     "execution_count": 76,
     "metadata": {},
     "output_type": "execute_result"
    }
   ],
   "source": [
    "unhappy_feedbacks = dfmod.query('Rating_binary == 0')['Q3']\n",
    "unhappy_feedbacks.head()"
   ]
  },
  {
   "cell_type": "code",
   "execution_count": 94,
   "metadata": {},
   "outputs": [],
   "source": [
    "# create word clouds with most frequent words in (un)happy reviews\n",
    "most_frequent_happyreviews = count_ngrams(happy_feedbacks,max_length=3)\n",
    "most_frequent_unhappyreviews = count_ngrams(unhappy_feedbacks,max_length=3)"
   ]
  },
  {
   "cell_type": "code",
   "execution_count": 95,
   "metadata": {},
   "outputs": [
    {
     "name": "stdout",
     "output_type": "stream",
     "text": [
      "----- 10 most common 2-grams -----\n",
      "die app: 63\n",
      "der app: 48\n",
      "in der: 44\n",
      "kann ich: 24\n",
      "sehr gut: 23\n",
      "es wäre: 21\n",
      "app ist: 20\n",
      "wenn man: 20\n",
      "z b: 18\n",
      "für die: 15\n",
      "\n",
      "----- 10 most common 3-grams -----\n",
      "in der app: 27\n",
      "die app ist: 13\n",
      "es wäre schön: 12\n",
      "wäre schön wenn: 12\n",
      "über die app: 9\n",
      "ich die app: 8\n",
      "wie kann ich: 8\n",
      "schön wenn man: 7\n",
      "mit der app: 7\n",
      "mit freundlichen grüßen: 6\n",
      "\n"
     ]
    }
   ],
   "source": [
    "print_most_frequent(most_frequent_happyreviews, num= 10)"
   ]
  },
  {
   "cell_type": "code",
   "execution_count": 96,
   "metadata": {},
   "outputs": [
    {
     "name": "stdout",
     "output_type": "stream",
     "text": [
      "----- 10 most common 2-grams -----\n",
      "die app: 215\n",
      "der app: 144\n",
      "in der: 128\n",
      "nicht mehr: 71\n",
      "app ist: 63\n",
      "kann ich: 60\n",
      "über die: 50\n",
      "wenn man: 48\n",
      "ist die: 39\n",
      "funktioniert nicht: 36\n",
      "\n",
      "----- 10 most common 3-grams -----\n",
      "in der app: 89\n",
      "die app ist: 45\n",
      "über die app: 29\n",
      "ist die app: 27\n",
      "mit freundlichen grüßen: 18\n",
      "die app nicht: 16\n",
      "zu den verträgen: 15\n",
      "es wäre schön: 14\n",
      "wäre schön wenn: 13\n",
      "der app nicht: 12\n",
      "\n"
     ]
    }
   ],
   "source": [
    "print_most_frequent(most_frequent_unhappyreviews, num= 10)"
   ]
  },
  {
   "cell_type": "code",
   "execution_count": 91,
   "metadata": {},
   "outputs": [
    {
     "ename": "TypeError",
     "evalue": "expected string or bytes-like object",
     "output_type": "error",
     "traceback": [
      "\u001b[0;31m---------------------------------------------------------------------------\u001b[0m",
      "\u001b[0;31mTypeError\u001b[0m                                 Traceback (most recent call last)",
      "\u001b[0;32m<ipython-input-91-9e94143e8d51>\u001b[0m in \u001b[0;36m<module>\u001b[0;34m\u001b[0m\n\u001b[1;32m      1\u001b[0m \u001b[0;31m# Generate a word cloud image\u001b[0m\u001b[0;34m\u001b[0m\u001b[0;34m\u001b[0m\u001b[0;34m\u001b[0m\u001b[0m\n\u001b[0;32m----> 2\u001b[0;31m \u001b[0mwordcloud\u001b[0m \u001b[0;34m=\u001b[0m \u001b[0mWordCloud\u001b[0m\u001b[0;34m(\u001b[0m\u001b[0;34m)\u001b[0m\u001b[0;34m.\u001b[0m\u001b[0mgenerate\u001b[0m\u001b[0;34m(\u001b[0m\u001b[0mmost_frequent_happyreviews\u001b[0m\u001b[0;34m)\u001b[0m\u001b[0;34m\u001b[0m\u001b[0;34m\u001b[0m\u001b[0m\n\u001b[0m\u001b[1;32m      3\u001b[0m \u001b[0;34m\u001b[0m\u001b[0m\n\u001b[1;32m      4\u001b[0m \u001b[0mplt\u001b[0m\u001b[0;34m.\u001b[0m\u001b[0mimshow\u001b[0m\u001b[0;34m(\u001b[0m\u001b[0mwordcloud\u001b[0m\u001b[0;34m,\u001b[0m \u001b[0minterpolation\u001b[0m\u001b[0;34m=\u001b[0m\u001b[0;34m\"bilinear\"\u001b[0m\u001b[0;34m)\u001b[0m\u001b[0;34m\u001b[0m\u001b[0;34m\u001b[0m\u001b[0m\n\u001b[1;32m      5\u001b[0m \u001b[0mplt\u001b[0m\u001b[0;34m.\u001b[0m\u001b[0mshow\u001b[0m\u001b[0;34m(\u001b[0m\u001b[0;34m)\u001b[0m\u001b[0;34m\u001b[0m\u001b[0;34m\u001b[0m\u001b[0m\n",
      "\u001b[0;32m~/opt/anaconda3/lib/python3.7/site-packages/wordcloud/wordcloud.py\u001b[0m in \u001b[0;36mgenerate\u001b[0;34m(self, text)\u001b[0m\n\u001b[1;32m    629\u001b[0m         \u001b[0mself\u001b[0m\u001b[0;34m\u001b[0m\u001b[0;34m\u001b[0m\u001b[0m\n\u001b[1;32m    630\u001b[0m         \"\"\"\n\u001b[0;32m--> 631\u001b[0;31m         \u001b[0;32mreturn\u001b[0m \u001b[0mself\u001b[0m\u001b[0;34m.\u001b[0m\u001b[0mgenerate_from_text\u001b[0m\u001b[0;34m(\u001b[0m\u001b[0mtext\u001b[0m\u001b[0;34m)\u001b[0m\u001b[0;34m\u001b[0m\u001b[0;34m\u001b[0m\u001b[0m\n\u001b[0m\u001b[1;32m    632\u001b[0m \u001b[0;34m\u001b[0m\u001b[0m\n\u001b[1;32m    633\u001b[0m     \u001b[0;32mdef\u001b[0m \u001b[0m_check_generated\u001b[0m\u001b[0;34m(\u001b[0m\u001b[0mself\u001b[0m\u001b[0;34m)\u001b[0m\u001b[0;34m:\u001b[0m\u001b[0;34m\u001b[0m\u001b[0;34m\u001b[0m\u001b[0m\n",
      "\u001b[0;32m~/opt/anaconda3/lib/python3.7/site-packages/wordcloud/wordcloud.py\u001b[0m in \u001b[0;36mgenerate_from_text\u001b[0;34m(self, text)\u001b[0m\n\u001b[1;32m    610\u001b[0m         \u001b[0mself\u001b[0m\u001b[0;34m\u001b[0m\u001b[0;34m\u001b[0m\u001b[0m\n\u001b[1;32m    611\u001b[0m         \"\"\"\n\u001b[0;32m--> 612\u001b[0;31m         \u001b[0mwords\u001b[0m \u001b[0;34m=\u001b[0m \u001b[0mself\u001b[0m\u001b[0;34m.\u001b[0m\u001b[0mprocess_text\u001b[0m\u001b[0;34m(\u001b[0m\u001b[0mtext\u001b[0m\u001b[0;34m)\u001b[0m\u001b[0;34m\u001b[0m\u001b[0;34m\u001b[0m\u001b[0m\n\u001b[0m\u001b[1;32m    613\u001b[0m         \u001b[0mself\u001b[0m\u001b[0;34m.\u001b[0m\u001b[0mgenerate_from_frequencies\u001b[0m\u001b[0;34m(\u001b[0m\u001b[0mwords\u001b[0m\u001b[0;34m)\u001b[0m\u001b[0;34m\u001b[0m\u001b[0;34m\u001b[0m\u001b[0m\n\u001b[1;32m    614\u001b[0m         \u001b[0;32mreturn\u001b[0m \u001b[0mself\u001b[0m\u001b[0;34m\u001b[0m\u001b[0;34m\u001b[0m\u001b[0m\n",
      "\u001b[0;32m~/opt/anaconda3/lib/python3.7/site-packages/wordcloud/wordcloud.py\u001b[0m in \u001b[0;36mprocess_text\u001b[0;34m(self, text)\u001b[0m\n\u001b[1;32m    572\u001b[0m         \u001b[0mregexp\u001b[0m \u001b[0;34m=\u001b[0m \u001b[0mself\u001b[0m\u001b[0;34m.\u001b[0m\u001b[0mregexp\u001b[0m \u001b[0;32mif\u001b[0m \u001b[0mself\u001b[0m\u001b[0;34m.\u001b[0m\u001b[0mregexp\u001b[0m \u001b[0;32mis\u001b[0m \u001b[0;32mnot\u001b[0m \u001b[0;32mNone\u001b[0m \u001b[0;32melse\u001b[0m \u001b[0;34mr\"\\w[\\w']+\"\u001b[0m\u001b[0;34m\u001b[0m\u001b[0;34m\u001b[0m\u001b[0m\n\u001b[1;32m    573\u001b[0m \u001b[0;34m\u001b[0m\u001b[0m\n\u001b[0;32m--> 574\u001b[0;31m         \u001b[0mwords\u001b[0m \u001b[0;34m=\u001b[0m \u001b[0mre\u001b[0m\u001b[0;34m.\u001b[0m\u001b[0mfindall\u001b[0m\u001b[0;34m(\u001b[0m\u001b[0mregexp\u001b[0m\u001b[0;34m,\u001b[0m \u001b[0mtext\u001b[0m\u001b[0;34m,\u001b[0m \u001b[0mflags\u001b[0m\u001b[0;34m)\u001b[0m\u001b[0;34m\u001b[0m\u001b[0;34m\u001b[0m\u001b[0m\n\u001b[0m\u001b[1;32m    575\u001b[0m         \u001b[0;31m# remove 's\u001b[0m\u001b[0;34m\u001b[0m\u001b[0;34m\u001b[0m\u001b[0;34m\u001b[0m\u001b[0m\n\u001b[1;32m    576\u001b[0m         words = [word[:-2] if word.lower().endswith(\"'s\") else word\n",
      "\u001b[0;32m~/opt/anaconda3/lib/python3.7/re.py\u001b[0m in \u001b[0;36mfindall\u001b[0;34m(pattern, string, flags)\u001b[0m\n\u001b[1;32m    221\u001b[0m \u001b[0;34m\u001b[0m\u001b[0m\n\u001b[1;32m    222\u001b[0m     Empty matches are included in the result.\"\"\"\n\u001b[0;32m--> 223\u001b[0;31m     \u001b[0;32mreturn\u001b[0m \u001b[0m_compile\u001b[0m\u001b[0;34m(\u001b[0m\u001b[0mpattern\u001b[0m\u001b[0;34m,\u001b[0m \u001b[0mflags\u001b[0m\u001b[0;34m)\u001b[0m\u001b[0;34m.\u001b[0m\u001b[0mfindall\u001b[0m\u001b[0;34m(\u001b[0m\u001b[0mstring\u001b[0m\u001b[0;34m)\u001b[0m\u001b[0;34m\u001b[0m\u001b[0;34m\u001b[0m\u001b[0m\n\u001b[0m\u001b[1;32m    224\u001b[0m \u001b[0;34m\u001b[0m\u001b[0m\n\u001b[1;32m    225\u001b[0m \u001b[0;32mdef\u001b[0m \u001b[0mfinditer\u001b[0m\u001b[0;34m(\u001b[0m\u001b[0mpattern\u001b[0m\u001b[0;34m,\u001b[0m \u001b[0mstring\u001b[0m\u001b[0;34m,\u001b[0m \u001b[0mflags\u001b[0m\u001b[0;34m=\u001b[0m\u001b[0;36m0\u001b[0m\u001b[0;34m)\u001b[0m\u001b[0;34m:\u001b[0m\u001b[0;34m\u001b[0m\u001b[0;34m\u001b[0m\u001b[0m\n",
      "\u001b[0;31mTypeError\u001b[0m: expected string or bytes-like object"
     ]
    }
   ],
   "source": [
    "# Generate a word cloud image\n",
    "wordcloud = WordCloud().generate(most_frequent_happyreviews)\n",
    "\n",
    "plt.imshow(wordcloud, interpolation=\"bilinear\")\n",
    "plt.show()"
   ]
  },
  {
   "cell_type": "markdown",
   "metadata": {},
   "source": [
    "## Modelling"
   ]
  },
  {
   "cell_type": "code",
   "execution_count": 29,
   "metadata": {},
   "outputs": [
    {
     "name": "stdout",
     "output_type": "stream",
     "text": [
      "Number of rows in the total set: 1713\n",
      "Number of rows in the training set: 1284\n",
      "Number of rows in the test set: 429\n"
     ]
    }
   ],
   "source": [
    "from sklearn.model_selection import train_test_split\n",
    "\n",
    "X_train, X_test, y_train, y_test = train_test_split(dfmod['Q3'], \n",
    "                                                    dfmod['Rating_binary'], \n",
    "                                                    random_state=1)\n",
    "\n",
    "print('Number of rows in the total set: {}'.format(dfmod.shape[0]))\n",
    "print('Number of rows in the training set: {}'.format(X_train.shape[0]))\n",
    "print('Number of rows in the test set: {}'.format(X_test.shape[0]))"
   ]
  },
  {
   "cell_type": "code",
   "execution_count": 30,
   "metadata": {},
   "outputs": [],
   "source": [
    "from sklearn.feature_extraction.text import CountVectorizer\n",
    "\n",
    "# Instantiate the CountVectorizer method\n",
    "count_vector = CountVectorizer()\n",
    "\n",
    "# Fit the training data and then return the matrix\n",
    "training_data = count_vector.fit_transform(X_train)\n",
    "\n",
    "# Transform testing data and return the matrix. Note we are not fitting the testing data into the CountVectorizer()\n",
    "testing_data = count_vector.transform(X_test)"
   ]
  },
  {
   "cell_type": "code",
   "execution_count": 31,
   "metadata": {},
   "outputs": [
    {
     "data": {
      "text/plain": [
       "MultinomialNB(alpha=1.0, class_prior=None, fit_prior=True)"
      ]
     },
     "execution_count": 31,
     "metadata": {},
     "output_type": "execute_result"
    }
   ],
   "source": [
    "from sklearn.naive_bayes import MultinomialNB\n",
    "naive_bayes = MultinomialNB()\n",
    "naive_bayes.fit(training_data, y_train)"
   ]
  },
  {
   "cell_type": "code",
   "execution_count": 32,
   "metadata": {},
   "outputs": [],
   "source": [
    "predictions = naive_bayes.predict(testing_data)"
   ]
  },
  {
   "cell_type": "code",
   "execution_count": 33,
   "metadata": {},
   "outputs": [
    {
     "name": "stdout",
     "output_type": "stream",
     "text": [
      "Accuracy score:  0.7249417249417249\n",
      "Precision score:  0.8392857142857143\n",
      "Recall score:  0.30128205128205127\n",
      "F1 score:  0.44339622641509435\n"
     ]
    }
   ],
   "source": [
    "from sklearn.metrics import accuracy_score, precision_score, recall_score, f1_score\n",
    "print('Accuracy score: ', format(accuracy_score(y_test, predictions)))\n",
    "print('Precision score: ', format(precision_score(y_test, predictions)))\n",
    "print('Recall score: ', format(recall_score(y_test, predictions)))\n",
    "print('F1 score: ', format(f1_score(y_test, predictions)))"
   ]
  },
  {
   "cell_type": "code",
   "execution_count": 34,
   "metadata": {},
   "outputs": [],
   "source": [
    "# building a model with text data and mobile phone & app version information"
   ]
  }
 ],
 "metadata": {
  "kernelspec": {
   "display_name": "Python 3",
   "language": "python",
   "name": "python3"
  },
  "language_info": {
   "codemirror_mode": {
    "name": "ipython",
    "version": 3
   },
   "file_extension": ".py",
   "mimetype": "text/x-python",
   "name": "python",
   "nbconvert_exporter": "python",
   "pygments_lexer": "ipython3",
   "version": "3.7.4"
  }
 },
 "nbformat": 4,
 "nbformat_minor": 2
}
